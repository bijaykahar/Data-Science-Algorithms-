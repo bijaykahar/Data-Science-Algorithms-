{
 "cells": [
  {
   "cell_type": "raw",
   "metadata": {},
   "source": [
    "Frequently Used Regular Expressions\n",
    "^ matches the beginning of a string.\n",
    "$ matches the end of a string.\n",
    "\\b matches a word boundary.\n",
    "\\d matches any numeric digit.\n",
    "\\D matches any non-numeric character.\n",
    "(x|y|z) matches exactly one of x, y or z.\n",
    "(x) in general is a remembered group. We can get the value of what matched by using the groups() method of the object returned by re.search.\n",
    "x? matches an optional x character (in other words, it matches an x zero or one times).\n",
    "x* matches x zero or more times.\n",
    "x+ matches x one or more times.\n",
    "x{m,n} matches an x character at least m times, but not more than n times.\n",
    "?: matches an expression but do not capture it. Non capturing group.\n",
    "?= matches a suffix but exclude it from capture. Positive look ahead. \n",
    "a(?=b) will match the \"a\" in \"ab\", but not the \"a\" in \"ac\" \n",
    "In other words, a(?=b) matches the \"a\" which is followed by the string 'b', without consuming what follows the a.\n",
    "?! matches if suffix is absent. Negative look ahead.\n",
    "a(?!b) will match the \"a\" in \"ac\", but not the \"a\" in \"ab\"\n",
    "?<= positive look behind\n",
    "?<! negative look behind\n",
    "\n",
    "\\s\tMatches whitespace\n",
    "\\S\tMatches any non-whitespace character\n",
    "*\tRepeats a character zero or more times\n",
    "\\S\tMatches any non-whitespace character\n",
    "*?\tRepeats a character zero or more times (non-greedy)\n",
    "+\tRepeats a character one or more times\n",
    "+?\tRepeats a character one or more times (non-greedy)\n",
    "[aeiou]\tMatches a single character in the listed set\n",
    "[^XYZ]\tMatches a single character not in the listed set\n",
    "[a-z0-9]\tThe set of characters can include a range\n",
    "(\tIndicates where string extraction is to start\n",
    ")\tIndicates where string extraction is to end"
   ]
  },
  {
   "cell_type": "code",
   "execution_count": 5,
   "metadata": {},
   "outputs": [],
   "source": [
    "import re"
   ]
  },
  {
   "cell_type": "code",
   "execution_count": 18,
   "metadata": {},
   "outputs": [],
   "source": [
    "emailtext = 'o take this to the next level from a ashok@datamites.com productivity standpoint zed each info@ernet.co.in time you send an pradeep@gmail.com email'"
   ]
  },
  {
   "cell_type": "code",
   "execution_count": 35,
   "metadata": {},
   "outputs": [
    {
     "data": {
      "text/plain": [
       "['ashok@datamites.com', 'info@ernet.co', 'pradeep@gmail.com']"
      ]
     },
     "execution_count": 35,
     "metadata": {},
     "output_type": "execute_result"
    }
   ],
   "source": [
    "re.findall(r'[a-zA-Z0-9]+@[a-zA-Z0-9]+.[a-z]+',emailtext) # S non whitespace"
   ]
  },
  {
   "cell_type": "code",
   "execution_count": null,
   "metadata": {},
   "outputs": [],
   "source": []
  },
  {
   "cell_type": "code",
   "execution_count": null,
   "metadata": {},
   "outputs": [],
   "source": []
  },
  {
   "cell_type": "code",
   "execution_count": 12,
   "metadata": {},
   "outputs": [],
   "source": [
    "text = \"This is session on 23 of this 68685 month\""
   ]
  },
  {
   "cell_type": "code",
   "execution_count": 13,
   "metadata": {},
   "outputs": [
    {
     "data": {
      "text/plain": [
       "['2', '3', '6', '8', '6', '8', '5']"
      ]
     },
     "execution_count": 13,
     "metadata": {},
     "output_type": "execute_result"
    }
   ],
   "source": [
    "re.findall(r'\\d',text)"
   ]
  },
  {
   "cell_type": "code",
   "execution_count": 14,
   "metadata": {},
   "outputs": [
    {
     "data": {
      "text/plain": [
       "['23', '68685']"
      ]
     },
     "execution_count": 14,
     "metadata": {},
     "output_type": "execute_result"
    }
   ],
   "source": [
    "re.findall(r'\\d+',text)"
   ]
  },
  {
   "cell_type": "code",
   "execution_count": null,
   "metadata": {},
   "outputs": [],
   "source": []
  },
  {
   "cell_type": "code",
   "execution_count": 6,
   "metadata": {},
   "outputs": [],
   "source": [
    "text = 'This is abstract from book %$#$%@#$#$\"shifting org culture\", ashok@gmail.com ashok@datamites.com 127.87.23.90 and 83.34.23.23 Author: Ashok  year 1987'"
   ]
  },
  {
   "cell_type": "code",
   "execution_count": 7,
   "metadata": {},
   "outputs": [
    {
     "data": {
      "text/plain": [
       "'This is abstract from book %$#$%@#$#$\"shifting org culture\", ashok@gmail.com ashok@datamites.com 127.87.23.90 and 83.34.23.23 Author: Ashok  year 1987'"
      ]
     },
     "execution_count": 7,
     "metadata": {},
     "output_type": "execute_result"
    }
   ],
   "source": [
    "text"
   ]
  },
  {
   "cell_type": "code",
   "execution_count": 8,
   "metadata": {},
   "outputs": [
    {
     "data": {
      "text/plain": [
       "'%$#$%@#$#$\"shifting'"
      ]
     },
     "execution_count": 8,
     "metadata": {},
     "output_type": "execute_result"
    }
   ],
   "source": [
    "re.search(r'\\? S+@\\S+', text).group()\n"
   ]
  },
  {
   "cell_type": "code",
   "execution_count": 9,
   "metadata": {},
   "outputs": [
    {
     "data": {
      "text/plain": [
       "['%$#$%@#$#$\"shifting', 'ashok@gmail.com', 'ashok@datamites.com']"
      ]
     },
     "execution_count": 9,
     "metadata": {},
     "output_type": "execute_result"
    }
   ],
   "source": [
    "re.findall('\\S+@\\S+', text)   "
   ]
  },
  {
   "cell_type": "code",
   "execution_count": 38,
   "metadata": {},
   "outputs": [
    {
     "data": {
      "text/plain": [
       "['127.87.23.90', '83.34.23.23']"
      ]
     },
     "execution_count": 38,
     "metadata": {},
     "output_type": "execute_result"
    }
   ],
   "source": [
    "# b matches word boundary , (?:[0-9]{1,3}\\.) group {3} 3 times,  [0-9]{1,3}  last block without '.'\n",
    "s = re.findall(r'\\b(?:[0-9]{1,3}\\.){3}[0-9]{1,3}\\b', text)\n",
    "s"
   ]
  },
  {
   "cell_type": "code",
   "execution_count": 13,
   "metadata": {},
   "outputs": [
    {
     "data": {
      "text/plain": [
       "'This is abstract from \"book shifting org culture\", ashok@gmail.com 127.0.0.1 and 127.0.0.1 Author: Ashok  year 1987'"
      ]
     },
     "execution_count": 13,
     "metadata": {},
     "output_type": "execute_result"
    }
   ],
   "source": [
    "# b matches word boundary , (?:[0-9]{1,3}\\.) group {3} 3 times,  [0-9]{1,3}  last block without '.'\n",
    "new_ip = '127.0.0.1'\n",
    "replaced = re.sub(r'\\b(?:[0-9]{1,3}\\.){3}[0-9]{1,3}\\b', new_ip, text)\n",
    "replaced"
   ]
  },
  {
   "cell_type": "code",
   "execution_count": 11,
   "metadata": {},
   "outputs": [
    {
     "data": {
      "text/plain": [
       "'emergencies'"
      ]
     },
     "execution_count": 11,
     "metadata": {},
     "output_type": "execute_result"
    }
   ],
   "source": [
    "#re.sub()  The re.sub() function performs regular expression-based string substitutions\n",
    "re.sub('y$', 'ies', 'emergency')"
   ]
  },
  {
   "cell_type": "code",
   "execution_count": 10,
   "metadata": {},
   "outputs": [
    {
     "name": "stdout",
     "output_type": "stream",
     "text": [
      "<_sre.SRE_Match object; span=(7, 9), match='cy'>\n"
     ]
    },
    {
     "data": {
      "text/plain": [
       "'emergency'"
      ]
     },
     "execution_count": 10,
     "metadata": {},
     "output_type": "execute_result"
    }
   ],
   "source": [
    "s = re.search('[^aeiou]y$', 'emergency')\n",
    "print(s)\n",
    "s.string"
   ]
  },
  {
   "cell_type": "code",
   "execution_count": null,
   "metadata": {},
   "outputs": [],
   "source": []
  },
  {
   "cell_type": "code",
   "execution_count": null,
   "metadata": {},
   "outputs": [],
   "source": [
    "    MAXiumum  MAX5 MAX \\bMAX\\b"
   ]
  },
  {
   "cell_type": "code",
   "execution_count": null,
   "metadata": {},
   "outputs": [],
   "source": []
  },
  {
   "cell_type": "code",
   "execution_count": null,
   "metadata": {},
   "outputs": [],
   "source": []
  }
 ],
 "metadata": {
  "kernelspec": {
   "display_name": "Python 3",
   "language": "python",
   "name": "python3"
  },
  "language_info": {
   "codemirror_mode": {
    "name": "ipython",
    "version": 3
   },
   "file_extension": ".py",
   "mimetype": "text/x-python",
   "name": "python",
   "nbconvert_exporter": "python",
   "pygments_lexer": "ipython3",
   "version": "3.7.3"
  }
 },
 "nbformat": 4,
 "nbformat_minor": 2
}
