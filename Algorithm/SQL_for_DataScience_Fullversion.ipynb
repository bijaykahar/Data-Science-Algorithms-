{
  "nbformat": 4,
  "nbformat_minor": 0,
  "metadata": {
    "kernelspec": {
      "display_name": "Python 3",
      "language": "python",
      "name": "python3"
    },
    "language_info": {
      "codemirror_mode": {
        "name": "ipython",
        "version": 3
      },
      "file_extension": ".py",
      "mimetype": "text/x-python",
      "name": "python",
      "nbconvert_exporter": "python",
      "pygments_lexer": "ipython3",
      "version": "3.7.3"
    },
    "colab": {
      "name": "SQL for DataScience - Fullversion.ipynb",
      "provenance": []
    }
  },
  "cells": [
    {
      "cell_type": "code",
      "metadata": {
        "id": "BIIuuzprUVpf",
        "colab_type": "code",
        "colab": {
          "base_uri": "https://localhost:8080/",
          "height": 139
        },
        "outputId": "9b26a8fd-e6af-4828-9bf5-c48031dac837"
      },
      "source": [
        "!pip install sqlalchemy\n",
        "!pip install pymysql\n"
      ],
      "execution_count": 3,
      "outputs": [
        {
          "output_type": "stream",
          "text": [
            "Requirement already satisfied: sqlalchemy in /usr/local/lib/python3.6/dist-packages (1.3.18)\n",
            "Collecting pymysql\n",
            "\u001b[?25l  Downloading https://files.pythonhosted.org/packages/2c/57/af502e0e113f139b3f3add4f1efba899a730a365d2264d476e85b9591da5/PyMySQL-0.10.0-py2.py3-none-any.whl (47kB)\n",
            "\u001b[K     |████████████████████████████████| 51kB 1.5MB/s \n",
            "\u001b[?25hInstalling collected packages: pymysql\n",
            "Successfully installed pymysql-0.10.0\n"
          ],
          "name": "stdout"
        }
      ]
    },
    {
      "cell_type": "code",
      "metadata": {
        "id": "Lzvwox1SUVps",
        "colab_type": "code",
        "colab": {}
      },
      "source": [
        "from sqlalchemy import create_engine\n",
        "import pandas as pd"
      ],
      "execution_count": 1,
      "outputs": []
    },
    {
      "cell_type": "code",
      "metadata": {
        "id": "uGPvrHORUVp2",
        "colab_type": "code",
        "colab": {
          "base_uri": "https://localhost:8080/",
          "height": 34
        },
        "outputId": "5b032e45-f499-45c1-eadd-47456fa02997"
      },
      "source": [
        "db_host = '18.136.56.185:3306'\n",
        "username = 'dm_user_sql'\n",
        "user_pass = '37z49REbnKnlpVvJ'\n",
        "db_name = 'datamites_sql'\n",
        "\n",
        "conn = create_engine('mysql+pymysql://'+username+':'+user_pass+'@'+db_host+'/'+db_name)\n",
        "conn.table_names()"
      ],
      "execution_count": 4,
      "outputs": [
        {
          "output_type": "execute_result",
          "data": {
            "text/plain": [
              "['customers', 'orders', 'products']"
            ]
          },
          "metadata": {
            "tags": []
          },
          "execution_count": 4
        }
      ]
    },
    {
      "cell_type": "code",
      "metadata": {
        "id": "dfyrZbp0UVqA",
        "colab_type": "code",
        "colab": {
          "base_uri": "https://localhost:8080/",
          "height": 345
        },
        "outputId": "085680c8-5760-48f0-c650-6985d84fe624"
      },
      "source": [
        "query = \"select * from orders\"\n",
        "orders = pd.read_sql(query,conn)\n",
        "print(orders.shape)\n",
        "orders"
      ],
      "execution_count": 28,
      "outputs": [
        {
          "output_type": "stream",
          "text": [
            "(9, 6)\n"
          ],
          "name": "stdout"
        },
        {
          "output_type": "execute_result",
          "data": {
            "text/html": [
              "<div>\n",
              "<style scoped>\n",
              "    .dataframe tbody tr th:only-of-type {\n",
              "        vertical-align: middle;\n",
              "    }\n",
              "\n",
              "    .dataframe tbody tr th {\n",
              "        vertical-align: top;\n",
              "    }\n",
              "\n",
              "    .dataframe thead th {\n",
              "        text-align: right;\n",
              "    }\n",
              "</style>\n",
              "<table border=\"1\" class=\"dataframe\">\n",
              "  <thead>\n",
              "    <tr style=\"text-align: right;\">\n",
              "      <th></th>\n",
              "      <th>order_id</th>\n",
              "      <th>order_date</th>\n",
              "      <th>customer_id</th>\n",
              "      <th>product_id</th>\n",
              "      <th>sales</th>\n",
              "      <th>quantity</th>\n",
              "    </tr>\n",
              "  </thead>\n",
              "  <tbody>\n",
              "    <tr>\n",
              "      <th>0</th>\n",
              "      <td>CA-2015-115812</td>\n",
              "      <td>6/9/2015</td>\n",
              "      <td>BH-11710</td>\n",
              "      <td>FUR-FU-10001487</td>\n",
              "      <td>48.860</td>\n",
              "      <td>7</td>\n",
              "    </tr>\n",
              "    <tr>\n",
              "      <th>1</th>\n",
              "      <td>CA-2017-105654</td>\n",
              "      <td>12/10/2017</td>\n",
              "      <td>BH-11710</td>\n",
              "      <td>FUR-TA-10000577</td>\n",
              "      <td>71.530</td>\n",
              "      <td>3</td>\n",
              "    </tr>\n",
              "    <tr>\n",
              "      <th>2</th>\n",
              "      <td>CA-2017-138688</td>\n",
              "      <td>6/12/2017</td>\n",
              "      <td>DV-13045</td>\n",
              "      <td>OFF-LA-10000240</td>\n",
              "      <td>14.620</td>\n",
              "      <td>2</td>\n",
              "    </tr>\n",
              "    <tr>\n",
              "      <th>3</th>\n",
              "      <td>CA-2017-152156</td>\n",
              "      <td>11/8/2017</td>\n",
              "      <td>CG-12520</td>\n",
              "      <td>FUR-BO-10001798</td>\n",
              "      <td>58.960</td>\n",
              "      <td>2</td>\n",
              "    </tr>\n",
              "    <tr>\n",
              "      <th>4</th>\n",
              "      <td>CA-2018-109265</td>\n",
              "      <td>2/8/2018</td>\n",
              "      <td>BH-11710</td>\n",
              "      <td>OFF-LA-10000240</td>\n",
              "      <td>14.620</td>\n",
              "      <td>5</td>\n",
              "    </tr>\n",
              "    <tr>\n",
              "      <th>5</th>\n",
              "      <td>CA-2018-109862</td>\n",
              "      <td>4/9/2018</td>\n",
              "      <td>DV-13045</td>\n",
              "      <td>OFF-PA-10002365</td>\n",
              "      <td>15.552</td>\n",
              "      <td>1</td>\n",
              "    </tr>\n",
              "    <tr>\n",
              "      <th>6</th>\n",
              "      <td>CA-2018-112417</td>\n",
              "      <td>6/8/2018</td>\n",
              "      <td>SO-20335</td>\n",
              "      <td>OFF-PA-10002365</td>\n",
              "      <td>15.552</td>\n",
              "      <td>2</td>\n",
              "    </tr>\n",
              "    <tr>\n",
              "      <th>7</th>\n",
              "      <td>CA-2018-114412</td>\n",
              "      <td>4/11/2018</td>\n",
              "      <td>AA-10480</td>\n",
              "      <td>OFF-PA-10002365</td>\n",
              "      <td>15.552</td>\n",
              "      <td>3</td>\n",
              "    </tr>\n",
              "    <tr>\n",
              "      <th>8</th>\n",
              "      <td>US-2016-108966</td>\n",
              "      <td>10/11/2017</td>\n",
              "      <td>SO-20335</td>\n",
              "      <td>FUR-TA-10000577</td>\n",
              "      <td>69.650</td>\n",
              "      <td>5</td>\n",
              "    </tr>\n",
              "  </tbody>\n",
              "</table>\n",
              "</div>"
            ],
            "text/plain": [
              "         order_id  order_date customer_id       product_id   sales  quantity\n",
              "0  CA-2015-115812    6/9/2015    BH-11710  FUR-FU-10001487  48.860         7\n",
              "1  CA-2017-105654  12/10/2017    BH-11710  FUR-TA-10000577  71.530         3\n",
              "2  CA-2017-138688   6/12/2017    DV-13045  OFF-LA-10000240  14.620         2\n",
              "3  CA-2017-152156   11/8/2017    CG-12520  FUR-BO-10001798  58.960         2\n",
              "4  CA-2018-109265    2/8/2018    BH-11710  OFF-LA-10000240  14.620         5\n",
              "5  CA-2018-109862    4/9/2018    DV-13045  OFF-PA-10002365  15.552         1\n",
              "6  CA-2018-112417    6/8/2018    SO-20335  OFF-PA-10002365  15.552         2\n",
              "7  CA-2018-114412   4/11/2018    AA-10480  OFF-PA-10002365  15.552         3\n",
              "8  US-2016-108966  10/11/2017    SO-20335  FUR-TA-10000577  69.650         5"
            ]
          },
          "metadata": {
            "tags": []
          },
          "execution_count": 28
        }
      ]
    },
    {
      "cell_type": "code",
      "metadata": {
        "id": "IU_YWSXPUVqH",
        "colab_type": "code",
        "colab": {
          "base_uri": "https://localhost:8080/",
          "height": 376
        },
        "outputId": "4b84a025-260e-495b-8c2f-9642fbd307fa"
      },
      "source": [
        "query = \"select * from customers\"\n",
        "customers = pd.read_sql(query,conn)\n",
        "print(customers.shape)\n",
        "customers"
      ],
      "execution_count": 29,
      "outputs": [
        {
          "output_type": "stream",
          "text": [
            "(10, 5)\n"
          ],
          "name": "stdout"
        },
        {
          "output_type": "execute_result",
          "data": {
            "text/html": [
              "<div>\n",
              "<style scoped>\n",
              "    .dataframe tbody tr th:only-of-type {\n",
              "        vertical-align: middle;\n",
              "    }\n",
              "\n",
              "    .dataframe tbody tr th {\n",
              "        vertical-align: top;\n",
              "    }\n",
              "\n",
              "    .dataframe thead th {\n",
              "        text-align: right;\n",
              "    }\n",
              "</style>\n",
              "<table border=\"1\" class=\"dataframe\">\n",
              "  <thead>\n",
              "    <tr style=\"text-align: right;\">\n",
              "      <th></th>\n",
              "      <th>customer_id</th>\n",
              "      <th>customer_name</th>\n",
              "      <th>city</th>\n",
              "      <th>state</th>\n",
              "      <th>postal_code</th>\n",
              "    </tr>\n",
              "  </thead>\n",
              "  <tbody>\n",
              "    <tr>\n",
              "      <th>0</th>\n",
              "      <td>AA-10480</td>\n",
              "      <td>Andrew Allen</td>\n",
              "      <td>Concord</td>\n",
              "      <td>North Carolina</td>\n",
              "      <td>28027</td>\n",
              "    </tr>\n",
              "    <tr>\n",
              "      <th>1</th>\n",
              "      <td>AG-10270</td>\n",
              "      <td>Alejandro Grove</td>\n",
              "      <td>West Jordan</td>\n",
              "      <td>Utah</td>\n",
              "      <td>84084</td>\n",
              "    </tr>\n",
              "    <tr>\n",
              "      <th>2</th>\n",
              "      <td>BH-11710</td>\n",
              "      <td>Brosina Hoffman</td>\n",
              "      <td>Los Angeles</td>\n",
              "      <td>California</td>\n",
              "      <td>90032</td>\n",
              "    </tr>\n",
              "    <tr>\n",
              "      <th>3</th>\n",
              "      <td>CG-12520</td>\n",
              "      <td>Claire Gute</td>\n",
              "      <td>Henderson</td>\n",
              "      <td>Kentucky</td>\n",
              "      <td>42420</td>\n",
              "    </tr>\n",
              "    <tr>\n",
              "      <th>4</th>\n",
              "      <td>DV-13045</td>\n",
              "      <td>Darrin Van Huff</td>\n",
              "      <td>Los Angeles</td>\n",
              "      <td>California</td>\n",
              "      <td>90036</td>\n",
              "    </tr>\n",
              "    <tr>\n",
              "      <th>5</th>\n",
              "      <td>HP-14815</td>\n",
              "      <td>Harold Pawlan</td>\n",
              "      <td>Fort Worth</td>\n",
              "      <td>Texas</td>\n",
              "      <td>76106</td>\n",
              "    </tr>\n",
              "    <tr>\n",
              "      <th>6</th>\n",
              "      <td>IM-15070</td>\n",
              "      <td>Irene Maddox</td>\n",
              "      <td>Seattle</td>\n",
              "      <td>Washington</td>\n",
              "      <td>98103</td>\n",
              "    </tr>\n",
              "    <tr>\n",
              "      <th>7</th>\n",
              "      <td>PK-19075</td>\n",
              "      <td>Pete Kriz</td>\n",
              "      <td>Madison</td>\n",
              "      <td>Wisconsin</td>\n",
              "      <td>53711</td>\n",
              "    </tr>\n",
              "    <tr>\n",
              "      <th>8</th>\n",
              "      <td>SO-20335</td>\n",
              "      <td>Sean O'Donnell</td>\n",
              "      <td>Fort Lauderdale</td>\n",
              "      <td>Florida</td>\n",
              "      <td>33311</td>\n",
              "    </tr>\n",
              "    <tr>\n",
              "      <th>9</th>\n",
              "      <td>ZD-21925</td>\n",
              "      <td>Zuschuss Donatelli</td>\n",
              "      <td>San Francisco</td>\n",
              "      <td>California</td>\n",
              "      <td>94109</td>\n",
              "    </tr>\n",
              "  </tbody>\n",
              "</table>\n",
              "</div>"
            ],
            "text/plain": [
              "  customer_id       customer_name             city           state  postal_code\n",
              "0    AA-10480        Andrew Allen          Concord  North Carolina        28027\n",
              "1    AG-10270     Alejandro Grove      West Jordan            Utah        84084\n",
              "2    BH-11710     Brosina Hoffman      Los Angeles      California        90032\n",
              "3    CG-12520         Claire Gute        Henderson        Kentucky        42420\n",
              "4    DV-13045     Darrin Van Huff      Los Angeles      California        90036\n",
              "5    HP-14815       Harold Pawlan       Fort Worth           Texas        76106\n",
              "6    IM-15070        Irene Maddox          Seattle      Washington        98103\n",
              "7    PK-19075           Pete Kriz          Madison       Wisconsin        53711\n",
              "8    SO-20335      Sean O'Donnell  Fort Lauderdale         Florida        33311\n",
              "9    ZD-21925  Zuschuss Donatelli    San Francisco      California        94109"
            ]
          },
          "metadata": {
            "tags": []
          },
          "execution_count": 29
        }
      ]
    },
    {
      "cell_type": "code",
      "metadata": {
        "id": "j4af9mJEUVqO",
        "colab_type": "code",
        "colab": {
          "base_uri": "https://localhost:8080/",
          "height": 221
        },
        "outputId": "3bdbe576-3a9a-40cd-e9d4-737869d95408"
      },
      "source": [
        "query = \"select * from products\"\n",
        "products = pd.read_sql(query,conn)\n",
        "print(products.shape)\n",
        "products.head()"
      ],
      "execution_count": 30,
      "outputs": [
        {
          "output_type": "stream",
          "text": [
            "(14, 4)\n"
          ],
          "name": "stdout"
        },
        {
          "output_type": "execute_result",
          "data": {
            "text/html": [
              "<div>\n",
              "<style scoped>\n",
              "    .dataframe tbody tr th:only-of-type {\n",
              "        vertical-align: middle;\n",
              "    }\n",
              "\n",
              "    .dataframe tbody tr th {\n",
              "        vertical-align: top;\n",
              "    }\n",
              "\n",
              "    .dataframe thead th {\n",
              "        text-align: right;\n",
              "    }\n",
              "</style>\n",
              "<table border=\"1\" class=\"dataframe\">\n",
              "  <thead>\n",
              "    <tr style=\"text-align: right;\">\n",
              "      <th></th>\n",
              "      <th>product_id</th>\n",
              "      <th>category</th>\n",
              "      <th>sub_category</th>\n",
              "      <th>product_name</th>\n",
              "    </tr>\n",
              "  </thead>\n",
              "  <tbody>\n",
              "    <tr>\n",
              "      <th>0</th>\n",
              "      <td>FUR-BO-10001798</td>\n",
              "      <td>Furniture</td>\n",
              "      <td>Bookcases</td>\n",
              "      <td>Bush Somerset Collection Bookcase</td>\n",
              "    </tr>\n",
              "    <tr>\n",
              "      <th>1</th>\n",
              "      <td>FUR-CH-10000454</td>\n",
              "      <td>Furniture</td>\n",
              "      <td>Chairs</td>\n",
              "      <td>Hon Deluxe Fabric Upholstered Stacking Chairs,...</td>\n",
              "    </tr>\n",
              "    <tr>\n",
              "      <th>2</th>\n",
              "      <td>FUR-FU-10001487</td>\n",
              "      <td>Furniture</td>\n",
              "      <td>Furnishings</td>\n",
              "      <td>Eldon Expressions Wood and Plastic Desk Access...</td>\n",
              "    </tr>\n",
              "    <tr>\n",
              "      <th>3</th>\n",
              "      <td>FUR-TA-10000577</td>\n",
              "      <td>Furniture</td>\n",
              "      <td>Tables</td>\n",
              "      <td>Bretford CR4500 Series Slim Rectangular Table</td>\n",
              "    </tr>\n",
              "    <tr>\n",
              "      <th>4</th>\n",
              "      <td>FUR-TA-10001539</td>\n",
              "      <td>Furniture</td>\n",
              "      <td>Tables</td>\n",
              "      <td>Chromcraft Rectangular Conference Tables</td>\n",
              "    </tr>\n",
              "  </tbody>\n",
              "</table>\n",
              "</div>"
            ],
            "text/plain": [
              "        product_id  ...                                       product_name\n",
              "0  FUR-BO-10001798  ...                  Bush Somerset Collection Bookcase\n",
              "1  FUR-CH-10000454  ...  Hon Deluxe Fabric Upholstered Stacking Chairs,...\n",
              "2  FUR-FU-10001487  ...  Eldon Expressions Wood and Plastic Desk Access...\n",
              "3  FUR-TA-10000577  ...      Bretford CR4500 Series Slim Rectangular Table\n",
              "4  FUR-TA-10001539  ...           Chromcraft Rectangular Conference Tables\n",
              "\n",
              "[5 rows x 4 columns]"
            ]
          },
          "metadata": {
            "tags": []
          },
          "execution_count": 30
        }
      ]
    },
    {
      "cell_type": "markdown",
      "metadata": {
        "id": "CVhFBFZ_UVqT",
        "colab_type": "text"
      },
      "source": [
        "# SQL Where Condition"
      ]
    },
    {
      "cell_type": "code",
      "metadata": {
        "id": "I8q3MamLUVqU",
        "colab_type": "code",
        "colab": {
          "base_uri": "https://localhost:8080/",
          "height": 221
        },
        "outputId": "0821edaa-9059-4d8e-c577-3e54b914e71f"
      },
      "source": [
        "query = \"select * from products where category='Furniture'\"\n",
        "products = pd.read_sql(query,conn)\n",
        "print(products.shape)\n",
        "products"
      ],
      "execution_count": 10,
      "outputs": [
        {
          "output_type": "stream",
          "text": [
            "(5, 4)\n"
          ],
          "name": "stdout"
        },
        {
          "output_type": "execute_result",
          "data": {
            "text/html": [
              "<div>\n",
              "<style scoped>\n",
              "    .dataframe tbody tr th:only-of-type {\n",
              "        vertical-align: middle;\n",
              "    }\n",
              "\n",
              "    .dataframe tbody tr th {\n",
              "        vertical-align: top;\n",
              "    }\n",
              "\n",
              "    .dataframe thead th {\n",
              "        text-align: right;\n",
              "    }\n",
              "</style>\n",
              "<table border=\"1\" class=\"dataframe\">\n",
              "  <thead>\n",
              "    <tr style=\"text-align: right;\">\n",
              "      <th></th>\n",
              "      <th>product_id</th>\n",
              "      <th>category</th>\n",
              "      <th>sub_category</th>\n",
              "      <th>product_name</th>\n",
              "    </tr>\n",
              "  </thead>\n",
              "  <tbody>\n",
              "    <tr>\n",
              "      <th>0</th>\n",
              "      <td>FUR-BO-10001798</td>\n",
              "      <td>Furniture</td>\n",
              "      <td>Bookcases</td>\n",
              "      <td>Bush Somerset Collection Bookcase</td>\n",
              "    </tr>\n",
              "    <tr>\n",
              "      <th>1</th>\n",
              "      <td>FUR-CH-10000454</td>\n",
              "      <td>Furniture</td>\n",
              "      <td>Chairs</td>\n",
              "      <td>Hon Deluxe Fabric Upholstered Stacking Chairs,...</td>\n",
              "    </tr>\n",
              "    <tr>\n",
              "      <th>2</th>\n",
              "      <td>FUR-FU-10001487</td>\n",
              "      <td>Furniture</td>\n",
              "      <td>Furnishings</td>\n",
              "      <td>Eldon Expressions Wood and Plastic Desk Access...</td>\n",
              "    </tr>\n",
              "    <tr>\n",
              "      <th>3</th>\n",
              "      <td>FUR-TA-10000577</td>\n",
              "      <td>Furniture</td>\n",
              "      <td>Tables</td>\n",
              "      <td>Bretford CR4500 Series Slim Rectangular Table</td>\n",
              "    </tr>\n",
              "    <tr>\n",
              "      <th>4</th>\n",
              "      <td>FUR-TA-10001539</td>\n",
              "      <td>Furniture</td>\n",
              "      <td>Tables</td>\n",
              "      <td>Chromcraft Rectangular Conference Tables</td>\n",
              "    </tr>\n",
              "  </tbody>\n",
              "</table>\n",
              "</div>"
            ],
            "text/plain": [
              "        product_id  ...                                       product_name\n",
              "0  FUR-BO-10001798  ...                  Bush Somerset Collection Bookcase\n",
              "1  FUR-CH-10000454  ...  Hon Deluxe Fabric Upholstered Stacking Chairs,...\n",
              "2  FUR-FU-10001487  ...  Eldon Expressions Wood and Plastic Desk Access...\n",
              "3  FUR-TA-10000577  ...      Bretford CR4500 Series Slim Rectangular Table\n",
              "4  FUR-TA-10001539  ...           Chromcraft Rectangular Conference Tables\n",
              "\n",
              "[5 rows x 4 columns]"
            ]
          },
          "metadata": {
            "tags": []
          },
          "execution_count": 10
        }
      ]
    },
    {
      "cell_type": "markdown",
      "metadata": {
        "id": "30-Bp0SVUVqe",
        "colab_type": "text"
      },
      "source": [
        "# SQL Where Condition and logical statement"
      ]
    },
    {
      "cell_type": "code",
      "metadata": {
        "id": "tsDn05KnUVqg",
        "colab_type": "code",
        "colab": {}
      },
      "source": [
        "query = \"select * from products where category='Furniture' or category='Technology'\"\n",
        "products = pd.read_sql(query,conn)\n",
        "print(products.shape)\n",
        "products"
      ],
      "execution_count": null,
      "outputs": []
    },
    {
      "cell_type": "markdown",
      "metadata": {
        "id": "A5kUbUbnUVqk",
        "colab_type": "text"
      },
      "source": [
        "## SQL Left Join\n",
        "also called as Left Outer Join"
      ]
    },
    {
      "cell_type": "code",
      "metadata": {
        "id": "D6BZ3kk8UVql",
        "colab_type": "code",
        "colab": {
          "base_uri": "https://localhost:8080/",
          "height": 221
        },
        "outputId": "2f3c4ee9-4e1b-49f6-f5e4-d3826fa5ab74"
      },
      "source": [
        "# fechting only customers details who have orders\n",
        "query = \"select * from orders  left join customers on \\\n",
        "orders.customer_id=customers.customer_id\"\n",
        "data = pd.read_sql(query,conn)\n",
        "print(data.shape)\n",
        "data.head()"
      ],
      "execution_count": 14,
      "outputs": [
        {
          "output_type": "stream",
          "text": [
            "(9, 11)\n"
          ],
          "name": "stdout"
        },
        {
          "output_type": "execute_result",
          "data": {
            "text/html": [
              "<div>\n",
              "<style scoped>\n",
              "    .dataframe tbody tr th:only-of-type {\n",
              "        vertical-align: middle;\n",
              "    }\n",
              "\n",
              "    .dataframe tbody tr th {\n",
              "        vertical-align: top;\n",
              "    }\n",
              "\n",
              "    .dataframe thead th {\n",
              "        text-align: right;\n",
              "    }\n",
              "</style>\n",
              "<table border=\"1\" class=\"dataframe\">\n",
              "  <thead>\n",
              "    <tr style=\"text-align: right;\">\n",
              "      <th></th>\n",
              "      <th>order_id</th>\n",
              "      <th>order_date</th>\n",
              "      <th>customer_id</th>\n",
              "      <th>product_id</th>\n",
              "      <th>sales</th>\n",
              "      <th>quantity</th>\n",
              "      <th>customer_id</th>\n",
              "      <th>customer_name</th>\n",
              "      <th>city</th>\n",
              "      <th>state</th>\n",
              "      <th>postal_code</th>\n",
              "    </tr>\n",
              "  </thead>\n",
              "  <tbody>\n",
              "    <tr>\n",
              "      <th>0</th>\n",
              "      <td>CA-2015-115812</td>\n",
              "      <td>6/9/2015</td>\n",
              "      <td>BH-11710</td>\n",
              "      <td>FUR-FU-10001487</td>\n",
              "      <td>48.86</td>\n",
              "      <td>7</td>\n",
              "      <td>BH-11710</td>\n",
              "      <td>Brosina Hoffman</td>\n",
              "      <td>Los Angeles</td>\n",
              "      <td>California</td>\n",
              "      <td>90032</td>\n",
              "    </tr>\n",
              "    <tr>\n",
              "      <th>1</th>\n",
              "      <td>CA-2017-105654</td>\n",
              "      <td>12/10/2017</td>\n",
              "      <td>BH-11710</td>\n",
              "      <td>FUR-TA-10000577</td>\n",
              "      <td>71.53</td>\n",
              "      <td>3</td>\n",
              "      <td>BH-11710</td>\n",
              "      <td>Brosina Hoffman</td>\n",
              "      <td>Los Angeles</td>\n",
              "      <td>California</td>\n",
              "      <td>90032</td>\n",
              "    </tr>\n",
              "    <tr>\n",
              "      <th>2</th>\n",
              "      <td>CA-2017-138688</td>\n",
              "      <td>6/12/2017</td>\n",
              "      <td>DV-13045</td>\n",
              "      <td>OFF-LA-10000240</td>\n",
              "      <td>14.62</td>\n",
              "      <td>2</td>\n",
              "      <td>DV-13045</td>\n",
              "      <td>Darrin Van Huff</td>\n",
              "      <td>Los Angeles</td>\n",
              "      <td>California</td>\n",
              "      <td>90036</td>\n",
              "    </tr>\n",
              "    <tr>\n",
              "      <th>3</th>\n",
              "      <td>CA-2017-152156</td>\n",
              "      <td>11/8/2017</td>\n",
              "      <td>CG-12520</td>\n",
              "      <td>FUR-BO-10001798</td>\n",
              "      <td>58.96</td>\n",
              "      <td>2</td>\n",
              "      <td>CG-12520</td>\n",
              "      <td>Claire Gute</td>\n",
              "      <td>Henderson</td>\n",
              "      <td>Kentucky</td>\n",
              "      <td>42420</td>\n",
              "    </tr>\n",
              "    <tr>\n",
              "      <th>4</th>\n",
              "      <td>CA-2018-109265</td>\n",
              "      <td>2/8/2018</td>\n",
              "      <td>BH-11710</td>\n",
              "      <td>OFF-LA-10000240</td>\n",
              "      <td>14.62</td>\n",
              "      <td>5</td>\n",
              "      <td>BH-11710</td>\n",
              "      <td>Brosina Hoffman</td>\n",
              "      <td>Los Angeles</td>\n",
              "      <td>California</td>\n",
              "      <td>90032</td>\n",
              "    </tr>\n",
              "  </tbody>\n",
              "</table>\n",
              "</div>"
            ],
            "text/plain": [
              "         order_id  order_date customer_id  ...         city       state  postal_code\n",
              "0  CA-2015-115812    6/9/2015    BH-11710  ...  Los Angeles  California        90032\n",
              "1  CA-2017-105654  12/10/2017    BH-11710  ...  Los Angeles  California        90032\n",
              "2  CA-2017-138688   6/12/2017    DV-13045  ...  Los Angeles  California        90036\n",
              "3  CA-2017-152156   11/8/2017    CG-12520  ...    Henderson    Kentucky        42420\n",
              "4  CA-2018-109265    2/8/2018    BH-11710  ...  Los Angeles  California        90032\n",
              "\n",
              "[5 rows x 11 columns]"
            ]
          },
          "metadata": {
            "tags": []
          },
          "execution_count": 14
        }
      ]
    },
    {
      "cell_type": "markdown",
      "metadata": {
        "id": "vuKYF3-5UVqu",
        "colab_type": "text"
      },
      "source": [
        "## SQL Right Join\n",
        "Also called as Right outer join"
      ]
    },
    {
      "cell_type": "code",
      "metadata": {
        "id": "ObfPtV7TUVqv",
        "colab_type": "code",
        "colab": {
          "base_uri": "https://localhost:8080/",
          "height": 221
        },
        "outputId": "161ffb1d-72ef-45dd-e964-5205a2406cf8"
      },
      "source": [
        "# fechting only customers details who have orders\n",
        "query = \"select * from orders  right join customers on orders.customer_id=customers.customer_id\"\n",
        "data = pd.read_sql(query,conn)\n",
        "print(data.shape)\n",
        "data.head()"
      ],
      "execution_count": 16,
      "outputs": [
        {
          "output_type": "stream",
          "text": [
            "(14, 11)\n"
          ],
          "name": "stdout"
        },
        {
          "output_type": "execute_result",
          "data": {
            "text/html": [
              "<div>\n",
              "<style scoped>\n",
              "    .dataframe tbody tr th:only-of-type {\n",
              "        vertical-align: middle;\n",
              "    }\n",
              "\n",
              "    .dataframe tbody tr th {\n",
              "        vertical-align: top;\n",
              "    }\n",
              "\n",
              "    .dataframe thead th {\n",
              "        text-align: right;\n",
              "    }\n",
              "</style>\n",
              "<table border=\"1\" class=\"dataframe\">\n",
              "  <thead>\n",
              "    <tr style=\"text-align: right;\">\n",
              "      <th></th>\n",
              "      <th>order_id</th>\n",
              "      <th>order_date</th>\n",
              "      <th>customer_id</th>\n",
              "      <th>product_id</th>\n",
              "      <th>sales</th>\n",
              "      <th>quantity</th>\n",
              "      <th>customer_id</th>\n",
              "      <th>customer_name</th>\n",
              "      <th>city</th>\n",
              "      <th>state</th>\n",
              "      <th>postal_code</th>\n",
              "    </tr>\n",
              "  </thead>\n",
              "  <tbody>\n",
              "    <tr>\n",
              "      <th>0</th>\n",
              "      <td>CA-2015-115812</td>\n",
              "      <td>6/9/2015</td>\n",
              "      <td>BH-11710</td>\n",
              "      <td>FUR-FU-10001487</td>\n",
              "      <td>48.86</td>\n",
              "      <td>7.0</td>\n",
              "      <td>BH-11710</td>\n",
              "      <td>Brosina Hoffman</td>\n",
              "      <td>Los Angeles</td>\n",
              "      <td>California</td>\n",
              "      <td>90032</td>\n",
              "    </tr>\n",
              "    <tr>\n",
              "      <th>1</th>\n",
              "      <td>CA-2017-105654</td>\n",
              "      <td>12/10/2017</td>\n",
              "      <td>BH-11710</td>\n",
              "      <td>FUR-TA-10000577</td>\n",
              "      <td>71.53</td>\n",
              "      <td>3.0</td>\n",
              "      <td>BH-11710</td>\n",
              "      <td>Brosina Hoffman</td>\n",
              "      <td>Los Angeles</td>\n",
              "      <td>California</td>\n",
              "      <td>90032</td>\n",
              "    </tr>\n",
              "    <tr>\n",
              "      <th>2</th>\n",
              "      <td>CA-2017-138688</td>\n",
              "      <td>6/12/2017</td>\n",
              "      <td>DV-13045</td>\n",
              "      <td>OFF-LA-10000240</td>\n",
              "      <td>14.62</td>\n",
              "      <td>2.0</td>\n",
              "      <td>DV-13045</td>\n",
              "      <td>Darrin Van Huff</td>\n",
              "      <td>Los Angeles</td>\n",
              "      <td>California</td>\n",
              "      <td>90036</td>\n",
              "    </tr>\n",
              "    <tr>\n",
              "      <th>3</th>\n",
              "      <td>CA-2017-152156</td>\n",
              "      <td>11/8/2017</td>\n",
              "      <td>CG-12520</td>\n",
              "      <td>FUR-BO-10001798</td>\n",
              "      <td>58.96</td>\n",
              "      <td>2.0</td>\n",
              "      <td>CG-12520</td>\n",
              "      <td>Claire Gute</td>\n",
              "      <td>Henderson</td>\n",
              "      <td>Kentucky</td>\n",
              "      <td>42420</td>\n",
              "    </tr>\n",
              "    <tr>\n",
              "      <th>4</th>\n",
              "      <td>CA-2018-109265</td>\n",
              "      <td>2/8/2018</td>\n",
              "      <td>BH-11710</td>\n",
              "      <td>OFF-LA-10000240</td>\n",
              "      <td>14.62</td>\n",
              "      <td>5.0</td>\n",
              "      <td>BH-11710</td>\n",
              "      <td>Brosina Hoffman</td>\n",
              "      <td>Los Angeles</td>\n",
              "      <td>California</td>\n",
              "      <td>90032</td>\n",
              "    </tr>\n",
              "  </tbody>\n",
              "</table>\n",
              "</div>"
            ],
            "text/plain": [
              "         order_id  order_date customer_id  ...         city       state  postal_code\n",
              "0  CA-2015-115812    6/9/2015    BH-11710  ...  Los Angeles  California        90032\n",
              "1  CA-2017-105654  12/10/2017    BH-11710  ...  Los Angeles  California        90032\n",
              "2  CA-2017-138688   6/12/2017    DV-13045  ...  Los Angeles  California        90036\n",
              "3  CA-2017-152156   11/8/2017    CG-12520  ...    Henderson    Kentucky        42420\n",
              "4  CA-2018-109265    2/8/2018    BH-11710  ...  Los Angeles  California        90032\n",
              "\n",
              "[5 rows x 11 columns]"
            ]
          },
          "metadata": {
            "tags": []
          },
          "execution_count": 16
        }
      ]
    },
    {
      "cell_type": "code",
      "metadata": {
        "id": "TJ5cQ0VeUVq1",
        "colab_type": "code",
        "colab": {}
      },
      "source": [
        "# fechting only customers details who have orders\n",
        "query = \"select * from customers  right join orders on orders.customer_id=customers.customer_id\"\n",
        "data = pd.read_sql(query,conn)\n",
        "print(data.shape)\n",
        "data.head(50)"
      ],
      "execution_count": null,
      "outputs": []
    },
    {
      "cell_type": "markdown",
      "metadata": {
        "id": "eQ9CUaNiUVq-",
        "colab_type": "text"
      },
      "source": [
        "## SQL Inner Join\n",
        "This is default"
      ]
    },
    {
      "cell_type": "code",
      "metadata": {
        "id": "TTjgXFT-UVq_",
        "colab_type": "code",
        "colab": {}
      },
      "source": [
        "# fechting only customers details who have orders\n",
        "query = \"select * from customers  inner join orders on orders.customer_id=customers.customer_id\"\n",
        "data = pd.read_sql(query,conn)\n",
        "print(data.shape)\n",
        "data.head(50)"
      ],
      "execution_count": null,
      "outputs": []
    },
    {
      "cell_type": "markdown",
      "metadata": {
        "id": "1XwvBJCXUVrD",
        "colab_type": "text"
      },
      "source": [
        "#  Join multiple tables"
      ]
    },
    {
      "cell_type": "code",
      "metadata": {
        "id": "I-v-UXJxUVrE",
        "colab_type": "code",
        "colab": {}
      },
      "source": [
        "# fechting only customers details who have orders\n",
        "query = \"select * from orders  left join customers on \\\n",
        "orders.customer_id=customers.customer_id \\\n",
        "left join products on orders.product_id = products.product_id\"\n",
        "data = pd.read_sql(query,conn)\n",
        "print(data.shape)\n",
        "data"
      ],
      "execution_count": null,
      "outputs": []
    },
    {
      "cell_type": "markdown",
      "metadata": {
        "id": "GUA5LDO1UVrK",
        "colab_type": "text"
      },
      "source": [
        "## Quick Assessment"
      ]
    },
    {
      "cell_type": "markdown",
      "metadata": {
        "id": "1Vv20WZ1UVrL",
        "colab_type": "raw"
      },
      "source": [
        "Fetch Orders information of customers from California State?"
      ]
    },
    {
      "cell_type": "code",
      "metadata": {
        "id": "NDyUiG8cUVrL",
        "colab_type": "code",
        "colab": {}
      },
      "source": [
        "query = \"select * from orders left join customers on \\\n",
        "orders.customer_id = customers.customer_id left join products on orders.product_id = products.product_id where state='California' and category= 'Furniture'\"\n",
        "data = pd.read_sql(query,conn)\n",
        "print(data.shape)\n",
        "data"
      ],
      "execution_count": null,
      "outputs": []
    },
    {
      "cell_type": "markdown",
      "metadata": {
        "id": "YyzoDpt1UVrR",
        "colab_type": "raw"
      },
      "source": [
        "Fetch Orders information of customers from california who ordered furnitures"
      ]
    },
    {
      "cell_type": "code",
      "metadata": {
        "id": "3gjd2alKUVrR",
        "colab_type": "code",
        "colab": {
          "base_uri": "https://localhost:8080/",
          "height": 284
        },
        "outputId": "b694f666-fc9d-4588-bd2d-076d1229f971"
      },
      "source": [
        "query = \"select * from orders left join customers on orders.customer_id = customers.customer_id \\\n",
        "left join products on orders.product_id = products.product_id where state='California' and category='Furniture' \"\n",
        "data = pd.read_sql(query,conn)\n",
        "print(data.shape)\n",
        "data"
      ],
      "execution_count": 35,
      "outputs": [
        {
          "output_type": "stream",
          "text": [
            "(2, 15)\n"
          ],
          "name": "stdout"
        },
        {
          "output_type": "execute_result",
          "data": {
            "text/html": [
              "<div>\n",
              "<style scoped>\n",
              "    .dataframe tbody tr th:only-of-type {\n",
              "        vertical-align: middle;\n",
              "    }\n",
              "\n",
              "    .dataframe tbody tr th {\n",
              "        vertical-align: top;\n",
              "    }\n",
              "\n",
              "    .dataframe thead th {\n",
              "        text-align: right;\n",
              "    }\n",
              "</style>\n",
              "<table border=\"1\" class=\"dataframe\">\n",
              "  <thead>\n",
              "    <tr style=\"text-align: right;\">\n",
              "      <th></th>\n",
              "      <th>order_id</th>\n",
              "      <th>order_date</th>\n",
              "      <th>customer_id</th>\n",
              "      <th>product_id</th>\n",
              "      <th>sales</th>\n",
              "      <th>quantity</th>\n",
              "      <th>customer_id</th>\n",
              "      <th>customer_name</th>\n",
              "      <th>city</th>\n",
              "      <th>state</th>\n",
              "      <th>postal_code</th>\n",
              "      <th>product_id</th>\n",
              "      <th>category</th>\n",
              "      <th>sub_category</th>\n",
              "      <th>product_name</th>\n",
              "    </tr>\n",
              "  </thead>\n",
              "  <tbody>\n",
              "    <tr>\n",
              "      <th>0</th>\n",
              "      <td>CA-2015-115812</td>\n",
              "      <td>6/9/2015</td>\n",
              "      <td>BH-11710</td>\n",
              "      <td>FUR-FU-10001487</td>\n",
              "      <td>48.86</td>\n",
              "      <td>7</td>\n",
              "      <td>BH-11710</td>\n",
              "      <td>Brosina Hoffman</td>\n",
              "      <td>Los Angeles</td>\n",
              "      <td>California</td>\n",
              "      <td>90032</td>\n",
              "      <td>FUR-FU-10001487</td>\n",
              "      <td>Furniture</td>\n",
              "      <td>Furnishings</td>\n",
              "      <td>Eldon Expressions Wood and Plastic Desk Access...</td>\n",
              "    </tr>\n",
              "    <tr>\n",
              "      <th>1</th>\n",
              "      <td>CA-2017-105654</td>\n",
              "      <td>12/10/2017</td>\n",
              "      <td>BH-11710</td>\n",
              "      <td>FUR-TA-10000577</td>\n",
              "      <td>71.53</td>\n",
              "      <td>3</td>\n",
              "      <td>BH-11710</td>\n",
              "      <td>Brosina Hoffman</td>\n",
              "      <td>Los Angeles</td>\n",
              "      <td>California</td>\n",
              "      <td>90032</td>\n",
              "      <td>FUR-TA-10000577</td>\n",
              "      <td>Furniture</td>\n",
              "      <td>Tables</td>\n",
              "      <td>Bretford CR4500 Series Slim Rectangular Table</td>\n",
              "    </tr>\n",
              "  </tbody>\n",
              "</table>\n",
              "</div>"
            ],
            "text/plain": [
              "         order_id  ...                                       product_name\n",
              "0  CA-2015-115812  ...  Eldon Expressions Wood and Plastic Desk Access...\n",
              "1  CA-2017-105654  ...      Bretford CR4500 Series Slim Rectangular Table\n",
              "\n",
              "[2 rows x 15 columns]"
            ]
          },
          "metadata": {
            "tags": []
          },
          "execution_count": 35
        }
      ]
    },
    {
      "cell_type": "code",
      "metadata": {
        "id": "lDMPWFBjUVrW",
        "colab_type": "code",
        "colab": {}
      },
      "source": [
        ""
      ],
      "execution_count": null,
      "outputs": []
    },
    {
      "cell_type": "code",
      "metadata": {
        "id": "GJ_IJh5vUVrc",
        "colab_type": "code",
        "colab": {}
      },
      "source": [
        ""
      ],
      "execution_count": null,
      "outputs": []
    },
    {
      "cell_type": "code",
      "metadata": {
        "id": "yLGuRLQrUVrk",
        "colab_type": "code",
        "colab": {}
      },
      "source": [
        ""
      ],
      "execution_count": null,
      "outputs": []
    }
  ]
}