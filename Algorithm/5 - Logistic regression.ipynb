{
 "cells": [
  {
   "cell_type": "code",
   "execution_count": 2,
   "metadata": {},
   "outputs": [],
   "source": [
    "import numpy as np\n",
    "import pandas as pd\n",
    "from sklearn.linear_model import LogisticRegression\n",
    "from sklearn.model_selection import train_test_split\n",
    "from sklearn.metrics import r2_score\n",
    "from sklearn.metrics import accuracy_score,confusion_matrix,precision_score,recall_score"
   ]
  },
  {
   "cell_type": "code",
   "execution_count": 3,
   "metadata": {},
   "outputs": [
    {
     "data": {
      "text/plain": [
       "'B:\\\\Machine Learning Bijay Explore\\\\DataMites\\\\Data'"
      ]
     },
     "execution_count": 3,
     "metadata": {},
     "output_type": "execute_result"
    }
   ],
   "source": [
    "import os\n",
    "#path=os.getcwd()\n",
    "path ='B:\\\\Machine Learning Bijay Explore\\\\DataMites\\\\Data'\n",
    "os.chdir(path)\n",
    "os.getcwd()"
   ]
  },
  {
   "cell_type": "code",
   "execution_count": 4,
   "metadata": {},
   "outputs": [
    {
     "data": {
      "text/html": [
       "<div>\n",
       "<style scoped>\n",
       "    .dataframe tbody tr th:only-of-type {\n",
       "        vertical-align: middle;\n",
       "    }\n",
       "\n",
       "    .dataframe tbody tr th {\n",
       "        vertical-align: top;\n",
       "    }\n",
       "\n",
       "    .dataframe thead th {\n",
       "        text-align: right;\n",
       "    }\n",
       "</style>\n",
       "<table border=\"1\" class=\"dataframe\">\n",
       "  <thead>\n",
       "    <tr style=\"text-align: right;\">\n",
       "      <th></th>\n",
       "      <th>car_model</th>\n",
       "      <th>mpg</th>\n",
       "      <th>cyl</th>\n",
       "      <th>disp</th>\n",
       "      <th>hp</th>\n",
       "      <th>drat</th>\n",
       "      <th>wt</th>\n",
       "      <th>qsec</th>\n",
       "      <th>vs</th>\n",
       "      <th>am</th>\n",
       "      <th>gear</th>\n",
       "      <th>carb</th>\n",
       "    </tr>\n",
       "  </thead>\n",
       "  <tbody>\n",
       "    <tr>\n",
       "      <th>0</th>\n",
       "      <td>Mazda RX4</td>\n",
       "      <td>21.0</td>\n",
       "      <td>6</td>\n",
       "      <td>160.0</td>\n",
       "      <td>110</td>\n",
       "      <td>3.90</td>\n",
       "      <td>2.620</td>\n",
       "      <td>16.46</td>\n",
       "      <td>0</td>\n",
       "      <td>1</td>\n",
       "      <td>4</td>\n",
       "      <td>4</td>\n",
       "    </tr>\n",
       "    <tr>\n",
       "      <th>1</th>\n",
       "      <td>Mazda RX4 Wag</td>\n",
       "      <td>21.0</td>\n",
       "      <td>6</td>\n",
       "      <td>160.0</td>\n",
       "      <td>110</td>\n",
       "      <td>3.90</td>\n",
       "      <td>2.875</td>\n",
       "      <td>17.02</td>\n",
       "      <td>0</td>\n",
       "      <td>1</td>\n",
       "      <td>4</td>\n",
       "      <td>4</td>\n",
       "    </tr>\n",
       "    <tr>\n",
       "      <th>2</th>\n",
       "      <td>Datsun 710</td>\n",
       "      <td>22.8</td>\n",
       "      <td>4</td>\n",
       "      <td>108.0</td>\n",
       "      <td>93</td>\n",
       "      <td>3.85</td>\n",
       "      <td>2.320</td>\n",
       "      <td>18.61</td>\n",
       "      <td>1</td>\n",
       "      <td>1</td>\n",
       "      <td>4</td>\n",
       "      <td>1</td>\n",
       "    </tr>\n",
       "    <tr>\n",
       "      <th>3</th>\n",
       "      <td>Hornet 4 Drive</td>\n",
       "      <td>21.4</td>\n",
       "      <td>6</td>\n",
       "      <td>258.0</td>\n",
       "      <td>110</td>\n",
       "      <td>3.08</td>\n",
       "      <td>3.215</td>\n",
       "      <td>19.44</td>\n",
       "      <td>1</td>\n",
       "      <td>0</td>\n",
       "      <td>3</td>\n",
       "      <td>1</td>\n",
       "    </tr>\n",
       "    <tr>\n",
       "      <th>4</th>\n",
       "      <td>Datsun 710</td>\n",
       "      <td>22.8</td>\n",
       "      <td>4</td>\n",
       "      <td>108.0</td>\n",
       "      <td>93</td>\n",
       "      <td>3.85</td>\n",
       "      <td>2.320</td>\n",
       "      <td>18.61</td>\n",
       "      <td>1</td>\n",
       "      <td>1</td>\n",
       "      <td>4</td>\n",
       "      <td>1</td>\n",
       "    </tr>\n",
       "  </tbody>\n",
       "</table>\n",
       "</div>"
      ],
      "text/plain": [
       "        car_model   mpg  cyl   disp   hp  drat     wt   qsec  vs  am  gear  \\\n",
       "0       Mazda RX4  21.0    6  160.0  110  3.90  2.620  16.46   0   1     4   \n",
       "1   Mazda RX4 Wag  21.0    6  160.0  110  3.90  2.875  17.02   0   1     4   \n",
       "2      Datsun 710  22.8    4  108.0   93  3.85  2.320  18.61   1   1     4   \n",
       "3  Hornet 4 Drive  21.4    6  258.0  110  3.08  3.215  19.44   1   0     3   \n",
       "4      Datsun 710  22.8    4  108.0   93  3.85  2.320  18.61   1   1     4   \n",
       "\n",
       "   carb  \n",
       "0     4  \n",
       "1     4  \n",
       "2     1  \n",
       "3     1  \n",
       "4     1  "
      ]
     },
     "execution_count": 4,
     "metadata": {},
     "output_type": "execute_result"
    }
   ],
   "source": [
    "cars=pd.read_csv(\"mtcars.csv\")\n",
    "cars.head()"
   ]
  },
  {
   "cell_type": "code",
   "execution_count": 5,
   "metadata": {},
   "outputs": [
    {
     "data": {
      "text/plain": [
       "(32, 12)"
      ]
     },
     "execution_count": 5,
     "metadata": {},
     "output_type": "execute_result"
    }
   ],
   "source": [
    "cars.shape"
   ]
  },
  {
   "cell_type": "code",
   "execution_count": 6,
   "metadata": {},
   "outputs": [
    {
     "data": {
      "text/plain": [
       "car_model    32\n",
       "mpg          32\n",
       "cyl          32\n",
       "disp         32\n",
       "hp           32\n",
       "drat         32\n",
       "wt           32\n",
       "qsec         32\n",
       "vs           32\n",
       "am           32\n",
       "gear         32\n",
       "carb         32\n",
       "dtype: int64"
      ]
     },
     "execution_count": 6,
     "metadata": {},
     "output_type": "execute_result"
    }
   ],
   "source": [
    "cars.isnull().count()"
   ]
  },
  {
   "cell_type": "code",
   "execution_count": 7,
   "metadata": {},
   "outputs": [
    {
     "data": {
      "text/html": [
       "<div>\n",
       "<style scoped>\n",
       "    .dataframe tbody tr th:only-of-type {\n",
       "        vertical-align: middle;\n",
       "    }\n",
       "\n",
       "    .dataframe tbody tr th {\n",
       "        vertical-align: top;\n",
       "    }\n",
       "\n",
       "    .dataframe thead th {\n",
       "        text-align: right;\n",
       "    }\n",
       "</style>\n",
       "<table border=\"1\" class=\"dataframe\">\n",
       "  <thead>\n",
       "    <tr style=\"text-align: right;\">\n",
       "      <th></th>\n",
       "      <th>mpg</th>\n",
       "      <th>cyl</th>\n",
       "      <th>disp</th>\n",
       "      <th>hp</th>\n",
       "      <th>drat</th>\n",
       "      <th>wt</th>\n",
       "      <th>qsec</th>\n",
       "      <th>vs</th>\n",
       "      <th>am</th>\n",
       "      <th>gear</th>\n",
       "      <th>carb</th>\n",
       "    </tr>\n",
       "  </thead>\n",
       "  <tbody>\n",
       "    <tr>\n",
       "      <th>mpg</th>\n",
       "      <td>1.000000</td>\n",
       "      <td>-0.854553</td>\n",
       "      <td>-0.848323</td>\n",
       "      <td>-0.748338</td>\n",
       "      <td>0.664093</td>\n",
       "      <td>-0.876525</td>\n",
       "      <td>0.362559</td>\n",
       "      <td>0.610570</td>\n",
       "      <td>0.658809</td>\n",
       "      <td>0.480045</td>\n",
       "      <td>-0.510205</td>\n",
       "    </tr>\n",
       "    <tr>\n",
       "      <th>cyl</th>\n",
       "      <td>-0.854553</td>\n",
       "      <td>1.000000</td>\n",
       "      <td>0.904855</td>\n",
       "      <td>0.821048</td>\n",
       "      <td>-0.639699</td>\n",
       "      <td>0.828594</td>\n",
       "      <td>-0.513701</td>\n",
       "      <td>-0.773405</td>\n",
       "      <td>-0.621461</td>\n",
       "      <td>-0.453460</td>\n",
       "      <td>0.554153</td>\n",
       "    </tr>\n",
       "    <tr>\n",
       "      <th>disp</th>\n",
       "      <td>-0.848323</td>\n",
       "      <td>0.904855</td>\n",
       "      <td>1.000000</td>\n",
       "      <td>0.784517</td>\n",
       "      <td>-0.650057</td>\n",
       "      <td>0.909787</td>\n",
       "      <td>-0.389220</td>\n",
       "      <td>-0.676439</td>\n",
       "      <td>-0.640002</td>\n",
       "      <td>-0.520970</td>\n",
       "      <td>0.415707</td>\n",
       "    </tr>\n",
       "    <tr>\n",
       "      <th>hp</th>\n",
       "      <td>-0.748338</td>\n",
       "      <td>0.821048</td>\n",
       "      <td>0.784517</td>\n",
       "      <td>1.000000</td>\n",
       "      <td>-0.352187</td>\n",
       "      <td>0.666635</td>\n",
       "      <td>-0.732310</td>\n",
       "      <td>-0.717553</td>\n",
       "      <td>-0.283276</td>\n",
       "      <td>-0.061141</td>\n",
       "      <td>0.772405</td>\n",
       "    </tr>\n",
       "    <tr>\n",
       "      <th>drat</th>\n",
       "      <td>0.664093</td>\n",
       "      <td>-0.639699</td>\n",
       "      <td>-0.650057</td>\n",
       "      <td>-0.352187</td>\n",
       "      <td>1.000000</td>\n",
       "      <td>-0.693334</td>\n",
       "      <td>-0.117535</td>\n",
       "      <td>0.279943</td>\n",
       "      <td>0.763135</td>\n",
       "      <td>0.710735</td>\n",
       "      <td>-0.000400</td>\n",
       "    </tr>\n",
       "    <tr>\n",
       "      <th>wt</th>\n",
       "      <td>-0.876525</td>\n",
       "      <td>0.828594</td>\n",
       "      <td>0.909787</td>\n",
       "      <td>0.666635</td>\n",
       "      <td>-0.693334</td>\n",
       "      <td>1.000000</td>\n",
       "      <td>-0.170668</td>\n",
       "      <td>-0.547939</td>\n",
       "      <td>-0.718505</td>\n",
       "      <td>-0.588810</td>\n",
       "      <td>0.418441</td>\n",
       "    </tr>\n",
       "    <tr>\n",
       "      <th>qsec</th>\n",
       "      <td>0.362559</td>\n",
       "      <td>-0.513701</td>\n",
       "      <td>-0.389220</td>\n",
       "      <td>-0.732310</td>\n",
       "      <td>-0.117535</td>\n",
       "      <td>-0.170668</td>\n",
       "      <td>1.000000</td>\n",
       "      <td>0.772373</td>\n",
       "      <td>-0.207698</td>\n",
       "      <td>-0.392472</td>\n",
       "      <td>-0.756134</td>\n",
       "    </tr>\n",
       "    <tr>\n",
       "      <th>vs</th>\n",
       "      <td>0.610570</td>\n",
       "      <td>-0.773405</td>\n",
       "      <td>-0.676439</td>\n",
       "      <td>-0.717553</td>\n",
       "      <td>0.279943</td>\n",
       "      <td>-0.547939</td>\n",
       "      <td>0.772373</td>\n",
       "      <td>1.000000</td>\n",
       "      <td>0.181463</td>\n",
       "      <td>0.098709</td>\n",
       "      <td>-0.632025</td>\n",
       "    </tr>\n",
       "    <tr>\n",
       "      <th>am</th>\n",
       "      <td>0.658809</td>\n",
       "      <td>-0.621461</td>\n",
       "      <td>-0.640002</td>\n",
       "      <td>-0.283276</td>\n",
       "      <td>0.763135</td>\n",
       "      <td>-0.718505</td>\n",
       "      <td>-0.207698</td>\n",
       "      <td>0.181463</td>\n",
       "      <td>1.000000</td>\n",
       "      <td>0.842662</td>\n",
       "      <td>0.035518</td>\n",
       "    </tr>\n",
       "    <tr>\n",
       "      <th>gear</th>\n",
       "      <td>0.480045</td>\n",
       "      <td>-0.453460</td>\n",
       "      <td>-0.520970</td>\n",
       "      <td>-0.061141</td>\n",
       "      <td>0.710735</td>\n",
       "      <td>-0.588810</td>\n",
       "      <td>-0.392472</td>\n",
       "      <td>0.098709</td>\n",
       "      <td>0.842662</td>\n",
       "      <td>1.000000</td>\n",
       "      <td>0.305056</td>\n",
       "    </tr>\n",
       "    <tr>\n",
       "      <th>carb</th>\n",
       "      <td>-0.510205</td>\n",
       "      <td>0.554153</td>\n",
       "      <td>0.415707</td>\n",
       "      <td>0.772405</td>\n",
       "      <td>-0.000400</td>\n",
       "      <td>0.418441</td>\n",
       "      <td>-0.756134</td>\n",
       "      <td>-0.632025</td>\n",
       "      <td>0.035518</td>\n",
       "      <td>0.305056</td>\n",
       "      <td>1.000000</td>\n",
       "    </tr>\n",
       "  </tbody>\n",
       "</table>\n",
       "</div>"
      ],
      "text/plain": [
       "           mpg       cyl      disp        hp      drat        wt      qsec  \\\n",
       "mpg   1.000000 -0.854553 -0.848323 -0.748338  0.664093 -0.876525  0.362559   \n",
       "cyl  -0.854553  1.000000  0.904855  0.821048 -0.639699  0.828594 -0.513701   \n",
       "disp -0.848323  0.904855  1.000000  0.784517 -0.650057  0.909787 -0.389220   \n",
       "hp   -0.748338  0.821048  0.784517  1.000000 -0.352187  0.666635 -0.732310   \n",
       "drat  0.664093 -0.639699 -0.650057 -0.352187  1.000000 -0.693334 -0.117535   \n",
       "wt   -0.876525  0.828594  0.909787  0.666635 -0.693334  1.000000 -0.170668   \n",
       "qsec  0.362559 -0.513701 -0.389220 -0.732310 -0.117535 -0.170668  1.000000   \n",
       "vs    0.610570 -0.773405 -0.676439 -0.717553  0.279943 -0.547939  0.772373   \n",
       "am    0.658809 -0.621461 -0.640002 -0.283276  0.763135 -0.718505 -0.207698   \n",
       "gear  0.480045 -0.453460 -0.520970 -0.061141  0.710735 -0.588810 -0.392472   \n",
       "carb -0.510205  0.554153  0.415707  0.772405 -0.000400  0.418441 -0.756134   \n",
       "\n",
       "            vs        am      gear      carb  \n",
       "mpg   0.610570  0.658809  0.480045 -0.510205  \n",
       "cyl  -0.773405 -0.621461 -0.453460  0.554153  \n",
       "disp -0.676439 -0.640002 -0.520970  0.415707  \n",
       "hp   -0.717553 -0.283276 -0.061141  0.772405  \n",
       "drat  0.279943  0.763135  0.710735 -0.000400  \n",
       "wt   -0.547939 -0.718505 -0.588810  0.418441  \n",
       "qsec  0.772373 -0.207698 -0.392472 -0.756134  \n",
       "vs    1.000000  0.181463  0.098709 -0.632025  \n",
       "am    0.181463  1.000000  0.842662  0.035518  \n",
       "gear  0.098709  0.842662  1.000000  0.305056  \n",
       "carb -0.632025  0.035518  0.305056  1.000000  "
      ]
     },
     "execution_count": 7,
     "metadata": {},
     "output_type": "execute_result"
    }
   ],
   "source": [
    "cars.corr()"
   ]
  },
  {
   "cell_type": "code",
   "execution_count": 8,
   "metadata": {},
   "outputs": [],
   "source": [
    "X =cars.loc[:,['mpg','hp','wt']] \n",
    "y =cars.am"
   ]
  },
  {
   "cell_type": "code",
   "execution_count": 9,
   "metadata": {},
   "outputs": [],
   "source": [
    "X_train,X_test,Y_train,Y_test = train_test_split(X,y,test_size=0.3,random_state=13)"
   ]
  },
  {
   "cell_type": "code",
   "execution_count": 10,
   "metadata": {},
   "outputs": [],
   "source": [
    "model = LogisticRegression()"
   ]
  },
  {
   "cell_type": "code",
   "execution_count": 11,
   "metadata": {},
   "outputs": [],
   "source": [
    "model.fit(X_train,Y_train)\n",
    "y_pred = model.predict(X_test)"
   ]
  },
  {
   "cell_type": "code",
   "execution_count": 12,
   "metadata": {},
   "outputs": [
    {
     "data": {
      "text/plain": [
       "0.9"
      ]
     },
     "execution_count": 12,
     "metadata": {},
     "output_type": "execute_result"
    }
   ],
   "source": [
    "accuracy_score(Y_test,y_pred)"
   ]
  },
  {
   "cell_type": "code",
   "execution_count": 13,
   "metadata": {},
   "outputs": [
    {
     "name": "stdout",
     "output_type": "stream",
     "text": [
      "22    0\n",
      "7     0\n",
      "8     0\n",
      "24    0\n",
      "31    1\n",
      "1     1\n",
      "28    1\n",
      "17    1\n",
      "27    1\n",
      "15    0\n",
      "Name: am, dtype: int64 [0 0 0 0 1 0 1 1 1 0]\n"
     ]
    }
   ],
   "source": [
    "print(Y_test,y_pred)"
   ]
  },
  {
   "cell_type": "code",
   "execution_count": 14,
   "metadata": {},
   "outputs": [
    {
     "data": {
      "text/html": [
       "<div>\n",
       "<style scoped>\n",
       "    .dataframe tbody tr th:only-of-type {\n",
       "        vertical-align: middle;\n",
       "    }\n",
       "\n",
       "    .dataframe tbody tr th {\n",
       "        vertical-align: top;\n",
       "    }\n",
       "\n",
       "    .dataframe thead th {\n",
       "        text-align: right;\n",
       "    }\n",
       "</style>\n",
       "<table border=\"1\" class=\"dataframe\">\n",
       "  <thead>\n",
       "    <tr style=\"text-align: right;\">\n",
       "      <th>col_0</th>\n",
       "      <th>0</th>\n",
       "      <th>1</th>\n",
       "    </tr>\n",
       "    <tr>\n",
       "      <th>am</th>\n",
       "      <th></th>\n",
       "      <th></th>\n",
       "    </tr>\n",
       "  </thead>\n",
       "  <tbody>\n",
       "    <tr>\n",
       "      <th>0</th>\n",
       "      <td>5</td>\n",
       "      <td>0</td>\n",
       "    </tr>\n",
       "    <tr>\n",
       "      <th>1</th>\n",
       "      <td>1</td>\n",
       "      <td>4</td>\n",
       "    </tr>\n",
       "  </tbody>\n",
       "</table>\n",
       "</div>"
      ],
      "text/plain": [
       "col_0  0  1\n",
       "am         \n",
       "0      5  0\n",
       "1      1  4"
      ]
     },
     "execution_count": 14,
     "metadata": {},
     "output_type": "execute_result"
    }
   ],
   "source": [
    "pd.crosstab(Y_test,y_pred)"
   ]
  },
  {
   "cell_type": "code",
   "execution_count": 15,
   "metadata": {},
   "outputs": [
    {
     "data": {
      "text/plain": [
       "array([[5, 0],\n",
       "       [1, 4]], dtype=int64)"
      ]
     },
     "execution_count": 15,
     "metadata": {},
     "output_type": "execute_result"
    }
   ],
   "source": [
    "confusion_matrix(Y_test,y_pred)"
   ]
  },
  {
   "cell_type": "code",
   "execution_count": 16,
   "metadata": {},
   "outputs": [
    {
     "data": {
      "text/plain": [
       "0.8"
      ]
     },
     "execution_count": 16,
     "metadata": {},
     "output_type": "execute_result"
    }
   ],
   "source": [
    "recall_score(Y_test,y_pred)"
   ]
  },
  {
   "cell_type": "code",
   "execution_count": 17,
   "metadata": {},
   "outputs": [
    {
     "data": {
      "text/plain": [
       "1.0"
      ]
     },
     "execution_count": 17,
     "metadata": {},
     "output_type": "execute_result"
    }
   ],
   "source": [
    "precision_score(Y_test,y_pred)"
   ]
  },
  {
   "cell_type": "code",
   "execution_count": 18,
   "metadata": {},
   "outputs": [
    {
     "data": {
      "text/plain": [
       "0.6"
      ]
     },
     "execution_count": 18,
     "metadata": {},
     "output_type": "execute_result"
    }
   ],
   "source": [
    "r2_score(Y_test,y_pred)"
   ]
  },
  {
   "cell_type": "code",
   "execution_count": null,
   "metadata": {},
   "outputs": [],
   "source": []
  }
 ],
 "metadata": {
  "kernelspec": {
   "display_name": "Python 3",
   "language": "python",
   "name": "python3"
  },
  "language_info": {
   "codemirror_mode": {
    "name": "ipython",
    "version": 3
   },
   "file_extension": ".py",
   "mimetype": "text/x-python",
   "name": "python",
   "nbconvert_exporter": "python",
   "pygments_lexer": "ipython3",
   "version": "3.7.3"
  }
 },
 "nbformat": 4,
 "nbformat_minor": 4
}
